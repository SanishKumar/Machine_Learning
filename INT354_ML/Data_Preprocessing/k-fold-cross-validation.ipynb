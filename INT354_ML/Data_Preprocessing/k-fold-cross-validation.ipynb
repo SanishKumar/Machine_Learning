{
 "cells": [
  {
   "cell_type": "code",
   "execution_count": 4,
   "metadata": {},
   "outputs": [],
   "source": [
    "from sklearn.datasets import load_iris\n",
    "dataset = load_iris()\n",
    "x = dataset.data\n",
    "y = dataset.target"
   ]
  },
  {
   "cell_type": "code",
   "execution_count": 5,
   "metadata": {},
   "outputs": [],
   "source": [
    "from sklearn.discriminant_analysis import LinearDiscriminantAnalysis as LDA, StandardScaler\n",
    "from sklearn.pipeline import Pipeline\n",
    "# p3=Pipeline([('sc',StandardScaler()),('lda')])"
   ]
  },
  {
   "cell_type": "code",
   "execution_count": null,
   "metadata": {},
   "outputs": [],
   "source": [
    "#first method of KFold\n",
    "from sklearn.model_selection import KFold\n",
    "\n",
    "k=5\n",
    "\n",
    "kf=KFold(n_splits=k,shuffle=True)\n",
    "acc_score=[]\n",
    "for train_index, test_index in kf.split(x):\n",
    "    x_train=[]\n",
    "    x_test=[]\n",
    "    y_train=[]\n",
    "    y_test=[]\n",
    "    for i in train_index:\n",
    "        x_train.append(x[i])\n",
    "        y_train.append(y[i])\n",
    "    for i in test_index:\n",
    "        x_test.append(x[i])\n",
    "        y.test.append(y[i])\n",
    "    p.fit(x_train,y_train)\n",
    "    "
   ]
  }
 ],
 "metadata": {
  "kernelspec": {
   "display_name": "Python 3 (ipykernel)",
   "language": "python",
   "name": "python3"
  },
  "language_info": {
   "codemirror_mode": {
    "name": "ipython",
    "version": 3
   },
   "file_extension": ".py",
   "mimetype": "text/x-python",
   "name": "python",
   "nbconvert_exporter": "python",
   "pygments_lexer": "ipython3",
   "version": "3.12.2"
  }
 },
 "nbformat": 4,
 "nbformat_minor": 4
}
