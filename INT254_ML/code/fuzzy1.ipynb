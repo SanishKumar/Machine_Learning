{
 "cells": [
  {
   "cell_type": "code",
   "execution_count": 7,
   "metadata": {},
   "outputs": [
    {
     "ename": "ModuleNotFoundError",
     "evalue": "No module named 'distutils'",
     "output_type": "error",
     "traceback": [
      "\u001b[1;31m---------------------------------------------------------------------------\u001b[0m",
      "\u001b[1;31mModuleNotFoundError\u001b[0m                       Traceback (most recent call last)",
      "Cell \u001b[1;32mIn[7], line 4\u001b[0m\n\u001b[0;32m      1\u001b[0m \u001b[38;5;66;03m# !pip install scikit-fuzzy\u001b[39;00m\n\u001b[0;32m      3\u001b[0m \u001b[38;5;28;01mimport\u001b[39;00m \u001b[38;5;21;01mnumpy\u001b[39;00m \u001b[38;5;28;01mas\u001b[39;00m \u001b[38;5;21;01mnp\u001b[39;00m\n\u001b[1;32m----> 4\u001b[0m \u001b[38;5;28;01mimport\u001b[39;00m \u001b[38;5;21;01mskfuzzy\u001b[39;00m \u001b[38;5;28;01mas\u001b[39;00m \u001b[38;5;21;01mfuzz\u001b[39;00m\n\u001b[0;32m      5\u001b[0m \u001b[38;5;28;01mfrom\u001b[39;00m \u001b[38;5;21;01mskfuzzy\u001b[39;00m \u001b[38;5;28;01mimport\u001b[39;00m control \u001b[38;5;28;01mas\u001b[39;00m ctrl\n\u001b[0;32m      7\u001b[0m \u001b[38;5;66;03m# Define fuzzy variables\u001b[39;00m\n",
      "File \u001b[1;32mc:\\Users\\acer\\AppData\\Local\\Programs\\Python\\Python312\\Lib\\site-packages\\skfuzzy\\__init__.py:44\u001b[0m\n\u001b[0;32m     41\u001b[0m __all__\u001b[38;5;241m.\u001b[39mextend(_intervals\u001b[38;5;241m.\u001b[39m__all__)\n\u001b[0;32m     43\u001b[0m \u001b[38;5;66;03m# Filtering subpackage, including 1D and 2D FIRE functions\u001b[39;00m\n\u001b[1;32m---> 44\u001b[0m \u001b[38;5;28;01mimport\u001b[39;00m \u001b[38;5;21;01mskfuzzy\u001b[39;00m\u001b[38;5;21;01m.\u001b[39;00m\u001b[38;5;21;01mfilters\u001b[39;00m \u001b[38;5;28;01mas\u001b[39;00m \u001b[38;5;21;01m_filters\u001b[39;00m\n\u001b[0;32m     45\u001b[0m \u001b[38;5;28;01mfrom\u001b[39;00m \u001b[38;5;21;01mskfuzzy\u001b[39;00m\u001b[38;5;21;01m.\u001b[39;00m\u001b[38;5;21;01mfilters\u001b[39;00m \u001b[38;5;28;01mimport\u001b[39;00m \u001b[38;5;241m*\u001b[39m\n\u001b[0;32m     46\u001b[0m __all__\u001b[38;5;241m.\u001b[39mextend(_filters\u001b[38;5;241m.\u001b[39m__all__)\n",
      "File \u001b[1;32mc:\\Users\\acer\\AppData\\Local\\Programs\\Python\\Python312\\Lib\\site-packages\\skfuzzy\\filters\\__init__.py:9\u001b[0m\n\u001b[0;32m      1\u001b[0m \u001b[38;5;124;03m\"\"\"\u001b[39;00m\n\u001b[0;32m      2\u001b[0m \u001b[38;5;124;03mskfuzzy.filters : Subpackage for filtering data, e.g. with Fuzzy Inference by\u001b[39;00m\n\u001b[0;32m      3\u001b[0m \u001b[38;5;124;03m    Else-action (FIRE) filters to denoise 1d or 2d data.\u001b[39;00m\n\u001b[0;32m      4\u001b[0m \n\u001b[0;32m      5\u001b[0m \u001b[38;5;124;03m\"\"\"\u001b[39;00m\n\u001b[0;32m      6\u001b[0m __all__ \u001b[38;5;241m=\u001b[39m [\u001b[38;5;124m'\u001b[39m\u001b[38;5;124mfire1d\u001b[39m\u001b[38;5;124m'\u001b[39m,\n\u001b[0;32m      7\u001b[0m            \u001b[38;5;124m'\u001b[39m\u001b[38;5;124mfire2d\u001b[39m\u001b[38;5;124m'\u001b[39m]\n\u001b[1;32m----> 9\u001b[0m \u001b[38;5;28;01mfrom\u001b[39;00m \u001b[38;5;21;01m.\u001b[39;00m\u001b[38;5;21;01mfire\u001b[39;00m \u001b[38;5;28;01mimport\u001b[39;00m fire1d, fire2d\n",
      "File \u001b[1;32mc:\\Users\\acer\\AppData\\Local\\Programs\\Python\\Python312\\Lib\\site-packages\\skfuzzy\\filters\\fire.py:7\u001b[0m\n\u001b[0;32m      1\u001b[0m \u001b[38;5;124;03m\"\"\"\u001b[39;00m\n\u001b[0;32m      2\u001b[0m \u001b[38;5;124;03mfire.py : Collection of Fuzzy Inference Ruled by ELSE-action (FIRE) filters.\u001b[39;00m\n\u001b[0;32m      3\u001b[0m \n\u001b[0;32m      4\u001b[0m \u001b[38;5;124;03m\"\"\"\u001b[39;00m\n\u001b[0;32m      6\u001b[0m \u001b[38;5;28;01mimport\u001b[39;00m \u001b[38;5;21;01mnumpy\u001b[39;00m \u001b[38;5;28;01mas\u001b[39;00m \u001b[38;5;21;01mnp\u001b[39;00m\n\u001b[1;32m----> 7\u001b[0m \u001b[38;5;28;01mfrom\u001b[39;00m \u001b[38;5;21;01m.\u001b[39;00m\u001b[38;5;21;01m.\u001b[39;00m\u001b[38;5;21;01mimage\u001b[39;00m \u001b[38;5;28;01mimport\u001b[39;00m view_as_windows\n\u001b[0;32m      8\u001b[0m \u001b[38;5;28;01mfrom\u001b[39;00m \u001b[38;5;21;01m.\u001b[39;00m\u001b[38;5;21;01m.\u001b[39;00m\u001b[38;5;21;01mmembership\u001b[39;00m \u001b[38;5;28;01mimport\u001b[39;00m trimf\n\u001b[0;32m     11\u001b[0m \u001b[38;5;28;01mdef\u001b[39;00m \u001b[38;5;21mfire1d\u001b[39m(x, l1\u001b[38;5;241m=\u001b[39m\u001b[38;5;241m0\u001b[39m, l2\u001b[38;5;241m=\u001b[39m\u001b[38;5;241m1\u001b[39m):\n",
      "File \u001b[1;32mc:\\Users\\acer\\AppData\\Local\\Programs\\Python\\Python312\\Lib\\site-packages\\skfuzzy\\image\\__init__.py:16\u001b[0m\n\u001b[0;32m     13\u001b[0m \u001b[38;5;28;01mfrom\u001b[39;00m \u001b[38;5;21;01m.\u001b[39;00m\u001b[38;5;21;01mmetrics\u001b[39;00m \u001b[38;5;28;01mimport\u001b[39;00m nmse\n\u001b[0;32m     15\u001b[0m \u001b[38;5;28;01mimport\u001b[39;00m \u001b[38;5;21;01mnumpy\u001b[39;00m \u001b[38;5;28;01mas\u001b[39;00m \u001b[38;5;21;01mnp\u001b[39;00m\n\u001b[1;32m---> 16\u001b[0m \u001b[38;5;28;01mfrom\u001b[39;00m \u001b[38;5;21;01mdistutils\u001b[39;00m\u001b[38;5;21;01m.\u001b[39;00m\u001b[38;5;21;01mversion\u001b[39;00m \u001b[38;5;28;01mimport\u001b[39;00m LooseVersion\n\u001b[0;32m     17\u001b[0m \u001b[38;5;28;01mif\u001b[39;00m LooseVersion(np\u001b[38;5;241m.\u001b[39m__version__) \u001b[38;5;241m>\u001b[39m LooseVersion(\u001b[38;5;124m\"\u001b[39m\u001b[38;5;124m1.8\u001b[39m\u001b[38;5;124m\"\u001b[39m):\n\u001b[0;32m     18\u001b[0m \t\u001b[38;5;28;01mfrom\u001b[39;00m \u001b[38;5;21;01mnumpy\u001b[39;00m \u001b[38;5;28;01mimport\u001b[39;00m pad\n",
      "\u001b[1;31mModuleNotFoundError\u001b[0m: No module named 'distutils'"
     ]
    }
   ],
   "source": [
    "# !pip install scikit-fuzzy\n",
    "\n",
    "import numpy as np\n",
    "import skfuzzy as fuzz\n",
    "from skfuzzy import control as ctrl\n",
    "\n",
    "# Define fuzzy variables\n",
    "temperature = ctrl.Antecedent(np.arange(0, 101, 1), 'temperature')\n",
    "humidity = ctrl.Antecedent(np.arange(0, 101, 1), 'humidity')\n",
    "fan_speed = ctrl.Consequent(np.arange(0, 101, 1), 'fan_speed')\n",
    "\n",
    "# Define membership functions\n",
    "temperature['cold'] = fuzz.trimf(temperature.universe, [0,0,50])\n",
    "temperature['medium'] = fuzz.trimf(temperature.universe, [20,50,100])\n",
    "temperature['hot'] = fuzz.trimf(temperature.universe, [50,100,100])\n",
    "\n",
    "\n",
    "humidity['dry'] = fuzz.trimf(humidity.universe, [0,0,50])\n",
    "humidity['normal'] = fuzz.trimf(humidity.universe, [20,50,100])\n",
    "humidity['humid'] = fuzz.trimf(humidity.universe, [50,100,100])\n",
    "\n",
    "\n",
    "fan_speed['low'] = fuzz.trimf(fan_speed.universe, [0,0,50])\n",
    "fan_speed['medium'] = fuzz.trimf(fan_speed.universe, [20,50,100])\n",
    "fan_speed['high'] = fuzz.trimf(fan_speed.universe, [50,100,100])\n",
    "\n",
    "# Define fuzzy rules\n",
    "rule1 = ctrl.Rule(temperature['cold'] | humidity['dry'], fan_speed['low'])\n",
    "rule2 = ctrl.Rule(temperature['medium'] | humidity['normal'], fan_speed['medium'])\n",
    "rule3 = ctrl.Rule(temperature['hot'] | humidity['humid'], fan_speed['high'])\n",
    "\n",
    "# Create the FIS(Fuzzy inference System)\n",
    "fis = ctrl.ControlSystem([rule1, rule2, rule3])\n",
    "fan_speed_ctrl = ctrl.ControlSystemSimulation(fis)\n",
    "\n",
    "# PAss inouts to the FIS and compute the output\n",
    "fan_speed_ctrl.input['temperature'] = 75\n",
    "fan_speed_ctrl.input['humidity'] = 40\n",
    "fan_speed_ctrl.compute()\n",
    "\n",
    "# Print the output\n",
    "print(\"Fan Speed:\", fan_speed_ctrl.output['fan_speed'])"
   ]
  },
  {
   "cell_type": "code",
   "execution_count": null,
   "metadata": {},
   "outputs": [],
   "source": []
  }
 ],
 "metadata": {
  "kernelspec": {
   "display_name": "Python 3",
   "language": "python",
   "name": "python3"
  },
  "language_info": {
   "codemirror_mode": {
    "name": "ipython",
    "version": 3
   },
   "file_extension": ".py",
   "mimetype": "text/x-python",
   "name": "python",
   "nbconvert_exporter": "python",
   "pygments_lexer": "ipython3",
   "version": "3.12.2"
  }
 },
 "nbformat": 4,
 "nbformat_minor": 2
}
