{
 "cells": [
  {
   "cell_type": "code",
   "execution_count": 3,
   "metadata": {},
   "outputs": [
    {
     "name": "stdout",
     "output_type": "stream",
     "text": [
      "CSV file \"data.csv\" has been created successfully.\n"
     ]
    }
   ],
   "source": [
    "import csv\n",
    "\n",
    "# Data to be written into the CSV file\n",
    "data = [\n",
    "[\"S. No.\", \"Names\", \"Years of Experience\", \"Domain\", \"Relevant Experience\", \"Income(USD)\", \"Marital Status\", \"Number of siblings\", \"dummy\"],\n",
    "[1, \"John\", 8, \"Automotive\", 6.0, 20000.0, \"Single\", 3, 0.0],\n",
    "[2, \"Jason\", 5, \"Entertainment\", 4.0, 15000.0, \"Married\", 3, 0.0],\n",
    "[3, \"Maria\", 10, \"Banking\", 3.0, 18000.0, \"Single\", 3, 0.0],\n",
    "[4, \"Jacob\", 12, \"Insurance\", 10.0, 24000.0, \"Single\", 3, 0.0],\n",
    "[5, \"Sarah\", 15, \"Logistics\", 5.0, 8000.0, \"Married\", 3, 0.0],\n",
    "[6, \"Angelina\", 3, \"Travel\", 3.0, 9500.0, \"Married\", 3, 0.0],\n",
    "[7, \"Krishna\", 0, \"NaN\", \"NaN\", \"NaN\", \"Single\", 3, 0.0],\n",
    "[8, \"Adam\", 8, \"Food\", 5.0, 7500.0, \"Single\", 3, 0.0],\n",
    "[9, \"Deepika\", 15, \"IT\", 13.0, 19500.0, \"Married\", 3, 0.0],\n",
    "[10, \"Alan\", 2, \"Space\", 1.0, 12500.0, \"Married\", 3, 0.0]\n",
    "]\n",
    "\n",
    "# Specify the file name\n",
    "csv_file = 'data.csv'\n",
    "\n",
    "# Write data into the CSV file\n",
    "with open(csv_file, 'w', newline='') as file:\n",
    "    writer = csv.writer(file)\n",
    "    writer.writerows(data)\n",
    "\n",
    "print(f'CSV file \"{csv_file}\" has been created successfully.')"
   ]
  }
 ],
 "metadata": {
  "kernelspec": {
   "display_name": "Python 3",
   "language": "python",
   "name": "python3"
  },
  "language_info": {
   "codemirror_mode": {
    "name": "ipython",
    "version": 3
   },
   "file_extension": ".py",
   "mimetype": "text/x-python",
   "name": "python",
   "nbconvert_exporter": "python",
   "pygments_lexer": "ipython3",
   "version": "3.11.5"
  }
 },
 "nbformat": 4,
 "nbformat_minor": 2
}
