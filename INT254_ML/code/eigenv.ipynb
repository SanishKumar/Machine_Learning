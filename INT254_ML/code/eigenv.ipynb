{
 "cells": [
  {
   "cell_type": "code",
   "execution_count": 5,
   "metadata": {},
   "outputs": [
    {
     "name": "stdout",
     "output_type": "stream",
     "text": [
      "E-value:  [-3.  4.]\n",
      "E-vector:  [[-0.70710678 -0.21693046]\n",
      " [-0.70710678 -0.97618706]]\n"
     ]
    }
   ],
   "source": [
    "import numpy as np\n",
    "# from numpy.linalg import eig\n",
    "a = np.array([[-5,2],[-9, 6]])\n",
    "w, v = np.linalg.eig(a)\n",
    "print('E-value: ', w)\n",
    "print('E-vector: ', v)"
   ]
  }
 ],
 "metadata": {
  "kernelspec": {
   "display_name": "Python 3",
   "language": "python",
   "name": "python3"
  },
  "language_info": {
   "codemirror_mode": {
    "name": "ipython",
    "version": 3
   },
   "file_extension": ".py",
   "mimetype": "text/x-python",
   "name": "python",
   "nbconvert_exporter": "python",
   "pygments_lexer": "ipython3",
   "version": "3.11.5"
  }
 },
 "nbformat": 4,
 "nbformat_minor": 2
}
